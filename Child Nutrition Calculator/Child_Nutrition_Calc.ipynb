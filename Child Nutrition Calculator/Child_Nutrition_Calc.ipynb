{
 "cells": [
  {
   "cell_type": "markdown",
   "metadata": {},
   "source": [
    "# Child Nutrition Calculator"
   ]
  },
  {
   "cell_type": "markdown",
   "metadata": {},
   "source": [
    "### Input the required information about child"
   ]
  },
  {
   "cell_type": "code",
   "execution_count": 2,
   "metadata": {},
   "outputs": [],
   "source": [
    "# personal info -> input name, age, gender, height, weight\n",
    "\n",
    "def personalInfoChild():\n",
    "    \n",
    "    Name = input(\"Enter your Name: \")\n",
    "\n",
    "    Age = int(input(\"Enter your Age: \"))\n",
    "\n",
    "    Gender = input(\"Enter your Gender: \")\n",
    "\n",
    "    height = float(input(\"Enter your height in inches: \"))\n",
    "\n",
    "    weight = float(input(\"Enter your weight pounds (lb): \"))\n",
    "    \n",
    "    return Name, Age, Gender, height, weight\n",
    "\n",
    "# Food Consumption of child\n",
    "def foodConsumed():\n",
    "    \n",
    "    foodConsumedByChild = {}\n",
    "    \n",
    "    for i in range(6):\n",
    "        print(\"******************************************\")\n",
    "        food = input(\"Enter food name: \")\n",
    "        intake = int(input(\"Enter food intake in gm: \"))\n",
    "        foodConsumedByChild[food] = intake\n",
    "\n",
    "    return foodConsumedByChild"
   ]
  },
  {
   "cell_type": "code",
   "execution_count": 3,
   "metadata": {
    "scrolled": true
   },
   "outputs": [
    {
     "name": "stdout",
     "output_type": "stream",
     "text": [
      "Enter your basic information\n",
      "Enter your Name: Peter Parker\n",
      "Enter your Age: 7\n",
      "Enter your Gender: M\n",
      "Enter your height in inches: 45\n",
      "Enter your weight pounds (lb): 60\n",
      "Enter food intakes in gm\n",
      "******************************************\n",
      "Enter food name: Milk\n",
      "Enter food intake in gm: 300\n",
      "******************************************\n",
      "Enter food name: Vegetable\n",
      "Enter food intake in gm: 300\n",
      "******************************************\n",
      "Enter food name: Meat\n",
      "Enter food intake in gm: 200\n",
      "******************************************\n",
      "Enter food name: Lentils\n",
      "Enter food intake in gm: 100\n",
      "******************************************\n",
      "Enter food name: Egg\n",
      "Enter food intake in gm: 300\n",
      "******************************************\n",
      "Enter food name: Rice\n",
      "Enter food intake in gm: 300\n"
     ]
    }
   ],
   "source": [
    "print(\"Enter your basic information\")\n",
    "Name, Age, Gender, height, weight = personalInfoChild()\n",
    "\n",
    "print(\"Enter food intakes in gm\")\n",
    "foodConsumedByChild = foodConsumed()"
   ]
  },
  {
   "cell_type": "code",
   "execution_count": 4,
   "metadata": {},
   "outputs": [
    {
     "data": {
      "text/plain": [
       "{'Milk': 300,\n",
       " 'Vegetable': 300,\n",
       " 'Meat': 200,\n",
       " 'Lentils': 100,\n",
       " 'Egg': 300,\n",
       " 'Rice': 300}"
      ]
     },
     "execution_count": 4,
     "metadata": {},
     "output_type": "execute_result"
    }
   ],
   "source": [
    "foodConsumedByChild"
   ]
  },
  {
   "cell_type": "markdown",
   "metadata": {},
   "source": [
    "### Method to calculate BMI"
   ]
  },
  {
   "cell_type": "code",
   "execution_count": 5,
   "metadata": {},
   "outputs": [],
   "source": [
    "def BMI(weight, height):\n",
    "    \n",
    "    # 703 for converting in SI units\n",
    "    bmi = (weight / (height ** 2)) * 703\n",
    "    return bmi"
   ]
  },
  {
   "cell_type": "markdown",
   "metadata": {},
   "source": [
    "### Method to calculate calories intake"
   ]
  },
  {
   "cell_type": "code",
   "execution_count": 11,
   "metadata": {},
   "outputs": [],
   "source": [
    "\n",
    "def rateOfFood(food):\n",
    "    \n",
    "    print(\"************************************\")\n",
    "    print(\"Enter rate details of \", food)\n",
    "    calories = int(input(\"Enter calories: \"))\n",
    "    intake = int(input(\"Enter food intake: \"))\n",
    "    \n",
    "    rate = (calories / intake)\n",
    "    print(\"Rate is\", rate)\n",
    "    return rate\n",
    "\n",
    "def totalCaloriesIntake(foodConsumedByChild):\n",
    "    \n",
    "    totalCaloriesConsumed = 0\n",
    "    \n",
    "    for food in foodConsumedByChild.keys():\n",
    "        \n",
    "        rate = rateOfFood(food)\n",
    "        caloriesOfFoodIntake = rate * foodConsumedByChild[food]\n",
    "        \n",
    "        totalCaloriesConsumed += caloriesOfFoodIntake\n",
    "    \n",
    "    return totalCaloriesConsumed\n",
    "    \n",
    "    "
   ]
  },
  {
   "cell_type": "markdown",
   "metadata": {},
   "source": [
    "### Calculating respective BMI and Calories Intake"
   ]
  },
  {
   "cell_type": "code",
   "execution_count": 12,
   "metadata": {},
   "outputs": [
    {
     "name": "stdout",
     "output_type": "stream",
     "text": [
      "BMI of Child is bmiOfChild  20.82962962962963\n",
      "************************************\n",
      "Enter rate details of  Milk\n",
      "Enter calories: 100\n",
      "Enter food intake100\n",
      "Rate is 1.0\n",
      "************************************\n",
      "Enter rate details of  Vegetable\n",
      "Enter calories: 85\n",
      "Enter food intake100\n",
      "Rate is 0.85\n",
      "************************************\n",
      "Enter rate details of  Meat\n",
      "Enter calories: 143\n",
      "Enter food intake100\n",
      "Rate is 1.43\n",
      "************************************\n",
      "Enter rate details of  Lentils\n",
      "Enter calories: 113\n",
      "Enter food intake100\n",
      "Rate is 1.13\n",
      "************************************\n",
      "Enter rate details of  Egg\n",
      "Enter calories: 155\n",
      "Enter food intake100\n",
      "Rate is 1.55\n",
      "************************************\n",
      "Enter rate details of  Rice\n",
      "Enter calories: 130\n",
      "Enter food intake100\n",
      "Rate is 1.3\n",
      "Total Calories Intake of Child is  1809.0\n"
     ]
    }
   ],
   "source": [
    "# BMI\n",
    "\n",
    "bmiOfChild = BMI(weight, height)\n",
    "\n",
    "print(\"BMI of Child is bmiOfChild \", bmiOfChild)\n",
    "\n",
    "# Calories Intake\n",
    "\n",
    "totalCaloriesConsumedByChild = totalCaloriesIntake(foodConsumedByChild)\n",
    "\n",
    "print(\"Total Calories Intake of Child is \", totalCaloriesConsumedByChild)"
   ]
  },
  {
   "cell_type": "code",
   "execution_count": null,
   "metadata": {},
   "outputs": [],
   "source": []
  },
  {
   "cell_type": "markdown",
   "metadata": {},
   "source": [
    "# HW"
   ]
  },
  {
   "cell_type": "markdown",
   "metadata": {},
   "source": [
    "* Go through code and imporve it on your own \n",
    "    - instead of only 6 food what if I want more ?\n",
    "    - you can make food rate per 100gm \n",
    "                                             \n",
    "* Print output in correct format"
   ]
  },
  {
   "cell_type": "markdown",
   "metadata": {},
   "source": [
    "# Some git commands"
   ]
  },
  {
   "cell_type": "markdown",
   "metadata": {},
   "source": [
    "1. Clone a repo - go to destination folder and open respective CMD / Terminal and write git clone url\n",
    "\n",
    "2. check git status -- changed files in red\n",
    "\n",
    "3. add - git add .\n",
    "\n",
    "4. check git status again -- changed files in green\n",
    "\n",
    "5. commit -> git commit -m \"your Message\"\n",
    "\n",
    "6. pushing -> git push / git push -f"
   ]
  },
  {
   "cell_type": "code",
   "execution_count": null,
   "metadata": {},
   "outputs": [],
   "source": []
  }
 ],
 "metadata": {
  "kernelspec": {
   "display_name": "Python 3",
   "language": "python",
   "name": "python3"
  },
  "language_info": {
   "codemirror_mode": {
    "name": "ipython",
    "version": 3
   },
   "file_extension": ".py",
   "mimetype": "text/x-python",
   "name": "python",
   "nbconvert_exporter": "python",
   "pygments_lexer": "ipython3",
   "version": "3.8.5"
  }
 },
 "nbformat": 4,
 "nbformat_minor": 4
}
